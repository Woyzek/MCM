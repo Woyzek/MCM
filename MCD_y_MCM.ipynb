{
  "nbformat": 4,
  "nbformat_minor": 0,
  "metadata": {
    "colab": {
      "provenance": [],
      "authorship_tag": "ABX9TyNHhbgpkfLKLrbqZGP69ZrA",
      "include_colab_link": true
    },
    "kernelspec": {
      "name": "python3",
      "display_name": "Python 3"
    },
    "language_info": {
      "name": "python"
    }
  },
  "cells": [
    {
      "cell_type": "markdown",
      "metadata": {
        "id": "view-in-github",
        "colab_type": "text"
      },
      "source": [
        "<a href=\"https://colab.research.google.com/github/Woyzek/MCM/blob/main/MCD_y_MCM.ipynb\" target=\"_parent\"><img src=\"https://colab.research.google.com/assets/colab-badge.svg\" alt=\"Open In Colab\"/></a>"
      ]
    },
    {
      "cell_type": "code",
      "source": [
        "#@title Calculadora de Máximo Común Divisor\n",
        "\n",
        "primerDivisores = []\n",
        "segundoDivisores = []\n",
        "divisoresComunes = []\n",
        "primer_numero = 38 #@param {type:\"integer\"}\n",
        "primerInt = int(primer_numero)\n",
        "segundo_numero = 102 #@param {type:\"integer\"}\n",
        "segundoInt = int(segundo_numero)\n",
        "\n",
        "def calculadivisores(numero,listadivisores):\n",
        "  for i in range(1, numero+1):\n",
        "      float(numero)\n",
        "      if numero%i==0:\n",
        "        int(numero)\n",
        "        listadivisores.append(int(i))\n",
        "  print(\"Los divisores de \"+str(numero)+\" son \"+str(listadivisores))\n",
        "\n",
        "def calculaMCD(lista1,lista2):\n",
        "  for i in lista1:\n",
        "    for x in lista2:\n",
        "      if i == x:\n",
        "        divisoresComunes.append(i)\n",
        "  return(divisoresComunes[len(divisoresComunes)-1])\n",
        "\n",
        "calculadivisores(primerInt,primerDivisores)\n",
        "calculadivisores(segundoInt,segundoDivisores)\n",
        "numeroMCD = calculaMCD(primerDivisores,segundoDivisores)\n",
        "print(\"El Máximo Común Divisor entre \"+str(primer_numero)+\" y \"+str(segundo_numero)+\" es \"+str(numeroMCD))"
      ],
      "metadata": {
        "colab": {
          "base_uri": "https://localhost:8080/"
        },
        "cellView": "form",
        "id": "JvIRXzpNoL8A",
        "outputId": "f6c789b1-b9f1-4486-cd47-309edc51a6de"
      },
      "execution_count": 13,
      "outputs": [
        {
          "output_type": "stream",
          "name": "stdout",
          "text": [
            "Los divisores de 38 son [1, 2, 19, 38]\n",
            "Los divisores de 102 son [1, 2, 3, 6, 17, 34, 51, 102]\n",
            "El Máximo Común Divisor entre 38 y 102 es 2\n"
          ]
        }
      ]
    },
    {
      "cell_type": "code",
      "source": [
        "#@title Calculadora de Mínimo Común Múltiple\n",
        "\n",
        "primer_numero = 9 #@param {type:\"integer\"}\n",
        "segundo_numero = 6 #@param {type:\"integer\"}\n",
        "primeroMultiples = []\n",
        "segundoMultiples = []\n",
        "coincidencia = False\n",
        "\n",
        "def calculaMCM(numero1,numero2,multiples1,multiples2):\n",
        "  iteracion = 1\n",
        "  while coincidencia == False:\n",
        "    multiples1.append(numero1*iteracion)\n",
        "    multiples2.append(numero2*iteracion)\n",
        "    for i in multiples1:\n",
        "      for x in multiples2:\n",
        "        if i == x:\n",
        "          return i\n",
        "          coincidencia == True\n",
        "    iteracion = iteracion +1\n",
        "MCM = calculaMCM(primer_numero,segundo_numero,primeroMultiples,segundoMultiples)\n",
        "print(\"El Mínimo Común Múltiple entre \"+str(primer_numero)+\" y \"+str(segundo_numero)+\" es \"+str(MCM))"
      ],
      "metadata": {
        "colab": {
          "base_uri": "https://localhost:8080/"
        },
        "cellView": "form",
        "id": "IO1qZGfFZ_df",
        "outputId": "db540254-4ec3-4f68-d2ff-c44875e88207"
      },
      "execution_count": 12,
      "outputs": [
        {
          "output_type": "stream",
          "name": "stdout",
          "text": [
            "El Mínimo Común Múltiple entre 9 y 6 es 18\n"
          ]
        }
      ]
    },
    {
      "cell_type": "code",
      "execution_count": null,
      "metadata": {
        "cellView": "form",
        "id": "84zr-f_nmv7V"
      },
      "outputs": [],
      "source": [
        "#@title\n",
        "primerDivisores = []\n",
        "segundoDivisores = []\n",
        "divisoresComunes = []\n",
        "MCM = 0\n",
        "primerInput = input(\"Introduce el primer número: \")\n",
        "primerNum = int(primerInput)\n",
        "segundoInput = input(\"Introduce el segundo número: \")\n",
        "segundoNum = int(segundoInput)\n",
        "\n",
        "def calculadivisores(numero,listadivisores):\n",
        "  for i in range(1, numero+1):\n",
        "      float(numero)\n",
        "      if numero%i==0:\n",
        "        int(numero)\n",
        "        listadivisores.append(int(i))\n",
        "  print(\"Los divisores de \"+str(numero)+\" son \"+str(listadivisores))\n",
        "\n",
        "def calculaMCM(lista1,lista2):\n",
        "  for i in lista1:\n",
        "    for x in lista2:\n",
        "      if i == x:\n",
        "        divisoresComunes.append(i)\n",
        "  return(divisoresComunes[len(divisoresComunes)-1])\n",
        "\n",
        "calculadivisores(primerNum,primerDivisores)\n",
        "calculadivisores(segundoNum,segundoDivisores)\n",
        "MCM = calculaMCM(primerDivisores,segundoDivisores)\n",
        "print(\"El Máximo Común Divisor entre \"+str(primerInput)+\" y \"+str(segundoInput)+\" es \"+str(MCM))"
      ]
    }
  ]
}