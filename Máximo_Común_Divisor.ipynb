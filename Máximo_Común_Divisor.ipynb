{
  "nbformat": 4,
  "nbformat_minor": 0,
  "metadata": {
    "colab": {
      "provenance": [],
      "authorship_tag": "ABX9TyObJ/W1yNdjoyHvyceNFBI/",
      "include_colab_link": true
    },
    "kernelspec": {
      "name": "python3",
      "display_name": "Python 3"
    },
    "language_info": {
      "name": "python"
    }
  },
  "cells": [
    {
      "cell_type": "markdown",
      "metadata": {
        "id": "view-in-github",
        "colab_type": "text"
      },
      "source": [
        "<a href=\"https://colab.research.google.com/github/Woyzek/MCM/blob/main/M%C3%A1ximo_Com%C3%BAn_Divisor.ipynb\" target=\"_parent\"><img src=\"https://colab.research.google.com/assets/colab-badge.svg\" alt=\"Open In Colab\"/></a>"
      ]
    },
    {
      "cell_type": "code",
      "source": [
        "#@title Calculadora de MCM\n",
        "\n",
        "primerDivisores = []\n",
        "segundoDivisores = []\n",
        "divisoresComunes = []\n",
        "primer_numero = 24 #@param {type:\"integer\"}\n",
        "primerInt = int(primerInput)\n",
        "segundo_numero = 52 #@param {type:\"integer\"}\n",
        "segundoInt = int(segundoInput)\n",
        "\n",
        "def calculadivisores(numero,listadivisores):\n",
        "  for i in range(1, numero+1):\n",
        "      float(numero)\n",
        "      if numero%i==0:\n",
        "        int(numero)\n",
        "        listadivisores.append(int(i))\n",
        "  print(\"Los divisores de \"+str(numero)+\" son \"+str(listadivisores))\n",
        "\n",
        "def calculaMCM(lista1,lista2):\n",
        "  for i in lista1:\n",
        "    for x in lista2:\n",
        "      if i == x:\n",
        "        divisoresComunes.append(i)\n",
        "  return(divisoresComunes[len(divisoresComunes)-1])\n",
        "\n",
        "calculadivisores(primerInt,primerDivisores)\n",
        "calculadivisores(segundoInt,segundoDivisores)\n",
        "numeroMCM = calculaMCM(primerDivisores,segundoDivisores)\n",
        "print(\"El Máximo Común Divisor entre \"+str(primerInput)+\" y \"+str(segundoInput)+\" es \"+str(numeroMCM))"
      ],
      "metadata": {
        "colab": {
          "base_uri": "https://localhost:8080/"
        },
        "cellView": "form",
        "id": "JvIRXzpNoL8A",
        "outputId": "e9d7bfae-d079-40e8-d5dc-74f6f37d56a6"
      },
      "execution_count": 5,
      "outputs": [
        {
          "output_type": "stream",
          "name": "stdout",
          "text": [
            "Los divisores de 24 son [1, 2, 3, 4, 6, 8, 12, 24]\n",
            "Los divisores de 36 son [1, 2, 3, 4, 6, 9, 12, 18, 36]\n",
            "El Máximo Común Divisor entre 24 y 36 es 12\n"
          ]
        }
      ]
    },
    {
      "cell_type": "markdown",
      "source": [
        "Código sin formularios"
      ],
      "metadata": {
        "id": "GNi9OYT1oQqf"
      }
    },
    {
      "cell_type": "code",
      "execution_count": null,
      "metadata": {
        "cellView": "form",
        "id": "84zr-f_nmv7V"
      },
      "outputs": [],
      "source": [
        "#@title\n",
        "primerDivisores = []\n",
        "segundoDivisores = []\n",
        "divisoresComunes = []\n",
        "MCM = 0\n",
        "primerInput = input(\"Introduce el primer número: \")\n",
        "primerNum = int(primerInput)\n",
        "segundoInput = input(\"Introduce el segundo número: \")\n",
        "segundoNum = int(segundoInput)\n",
        "\n",
        "def calculadivisores(numero,listadivisores):\n",
        "  for i in range(1, numero+1):\n",
        "      float(numero)\n",
        "      if numero%i==0:\n",
        "        int(numero)\n",
        "        listadivisores.append(int(i))\n",
        "  print(\"Los divisores de \"+str(numero)+\" son \"+str(listadivisores))\n",
        "\n",
        "def calculaMCM(lista1,lista2):\n",
        "  for i in lista1:\n",
        "    for x in lista2:\n",
        "      if i == x:\n",
        "        divisoresComunes.append(i)\n",
        "  return(divisoresComunes[len(divisoresComunes)-1])\n",
        "\n",
        "calculadivisores(primerNum,primerDivisores)\n",
        "calculadivisores(segundoNum,segundoDivisores)\n",
        "MCM = calculaMCM(primerDivisores,segundoDivisores)\n",
        "print(\"El Máximo Común Divisor entre \"+str(primerInput)+\" y \"+str(segundoInput)+\" es \"+str(MCM))"
      ]
    }
  ]
}